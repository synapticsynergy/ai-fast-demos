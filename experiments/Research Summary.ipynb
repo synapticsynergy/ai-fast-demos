{
 "cells": [
  {
   "cell_type": "markdown",
   "id": "b777c0ff-be89-40a4-b6bd-7c8c66241a69",
   "metadata": {},
   "source": [
    "# **Title** | Research Summary Template"
   ]
  },
  {
   "cell_type": "markdown",
   "id": "61427f96-a27a-406e-9b7f-37ea5aadee8a",
   "metadata": {},
   "source": [
    "# **Intro** | Flower Image Classification"
   ]
  },
  {
   "cell_type": "markdown",
   "id": "9f1b8aaf",
   "metadata": {},
   "source": [
    "# **Methodology**\n",
    "Fine tune on Resnet18 pre-trained model to acheive image classification results leveraging transfer learning."
   ]
  },
  {
   "cell_type": "markdown",
   "id": "9286314d",
   "metadata": {},
   "source": [
    "# Key Findings\n",
    "- Results from EDA | \n",
    "[Link to EDA Notebook](./observations/EDA.ipynb)\n",
    "- Eval metrics\n",
    "- confusion matrix"
   ]
  },
  {
   "cell_type": "markdown",
   "id": "d4a477c5",
   "metadata": {},
   "source": [
    "# Conclusion\n",
    "Starting with Resnet18 with a pretrained model and using transfer learning techniques speeds up image classification tasks to acheive target evaluation metrics."
   ]
  },
  {
   "cell_type": "markdown",
   "id": "d09ec4c4",
   "metadata": {},
   "source": [
    "# Recommendations\n",
    "Do it."
   ]
  },
  {
   "cell_type": "markdown",
   "id": "abe6d0fa",
   "metadata": {},
   "source": [
    "# References\n",
    "- [Oxford 17 Category Flower Dataset](https://www.robots.ox.ac.uk/~vgg/data/flowers/17/index.html)"
   ]
  }
 ],
 "metadata": {
  "kernelspec": {
   "display_name": "da_ai-fast-demos",
   "language": "python",
   "name": "da_ai-fast-demos"
  },
  "language_info": {
   "codemirror_mode": {
    "name": "ipython",
    "version": 3
   },
   "file_extension": ".py",
   "mimetype": "text/x-python",
   "name": "python",
   "nbconvert_exporter": "python",
   "pygments_lexer": "ipython3",
   "version": "3.11.10"
  }
 },
 "nbformat": 4,
 "nbformat_minor": 5
}
