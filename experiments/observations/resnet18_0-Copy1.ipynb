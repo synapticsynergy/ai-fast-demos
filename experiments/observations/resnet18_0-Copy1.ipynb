{
 "cells": [
  {
   "cell_type": "markdown",
   "id": "3d6fa67b-4d9a-4284-86b6-2ed5b86b4228",
   "metadata": {},
   "source": [
    "# Imports"
   ]
  },
  {
   "cell_type": "code",
   "execution_count": 2,
   "id": "7da22e2e",
   "metadata": {},
   "outputs": [],
   "source": []
  },
  {
   "cell_type": "markdown",
   "id": "2587023f",
   "metadata": {},
   "source": [
    "# Preprocess Data"
   ]
  },
  {
   "cell_type": "markdown",
   "id": "4441095e",
   "metadata": {},
   "source": [
    "Set device"
   ]
  },
  {
   "cell_type": "code",
   "execution_count": null,
   "id": "07b372e8",
   "metadata": {},
   "outputs": [],
   "source": [
    "device = \"\""
   ]
  },
  {
   "cell_type": "markdown",
   "id": "2ec88813",
   "metadata": {},
   "source": [
    "Define data transformations"
   ]
  },
  {
   "cell_type": "code",
   "execution_count": null,
   "id": "7bab50d1",
   "metadata": {},
   "outputs": [],
   "source": []
  },
  {
   "cell_type": "markdown",
   "id": "960e43c3",
   "metadata": {},
   "source": [
    "Load the dataset"
   ]
  },
  {
   "cell_type": "code",
   "execution_count": 3,
   "id": "54f7e53d-934f-4050-8057-c155454e8ecb",
   "metadata": {},
   "outputs": [],
   "source": []
  },
  {
   "cell_type": "markdown",
   "id": "7152eba1",
   "metadata": {},
   "source": [
    "# Split Dataset"
   ]
  },
  {
   "cell_type": "markdown",
   "id": "9b3c79dd",
   "metadata": {},
   "source": [
    "Split the dataset into train, validation, and test sets"
   ]
  },
  {
   "cell_type": "code",
   "execution_count": null,
   "id": "958a734c",
   "metadata": {},
   "outputs": [],
   "source": []
  },
  {
   "cell_type": "markdown",
   "id": "ea8a85a1",
   "metadata": {},
   "source": [
    "Apply respective transformations"
   ]
  },
  {
   "cell_type": "code",
   "execution_count": null,
   "id": "ad5f412d",
   "metadata": {},
   "outputs": [],
   "source": []
  },
  {
   "cell_type": "markdown",
   "id": "58ac1bf1",
   "metadata": {},
   "source": [
    "Create data loaders"
   ]
  },
  {
   "cell_type": "code",
   "execution_count": 5,
   "id": "69fc65ca",
   "metadata": {},
   "outputs": [],
   "source": []
  },
  {
   "cell_type": "markdown",
   "id": "e5a1e3db",
   "metadata": {},
   "source": [
    "# Baseline Performance | Before Training"
   ]
  },
  {
   "cell_type": "markdown",
   "id": "71f11e97",
   "metadata": {},
   "source": [
    "Load pretrained model and prepare for fine tuning"
   ]
  },
  {
   "cell_type": "code",
   "execution_count": null,
   "id": "caed9e16",
   "metadata": {},
   "outputs": [],
   "source": []
  },
  {
   "cell_type": "markdown",
   "id": "26eed081",
   "metadata": {},
   "source": [
    "Evaluate the model on the test set"
   ]
  },
  {
   "cell_type": "code",
   "execution_count": null,
   "id": "84e8677b",
   "metadata": {},
   "outputs": [],
   "source": []
  },
  {
   "cell_type": "markdown",
   "id": "51465da8",
   "metadata": {},
   "source": [
    "Plot confusion matrix"
   ]
  },
  {
   "cell_type": "code",
   "execution_count": null,
   "id": "3c30b406",
   "metadata": {},
   "outputs": [],
   "source": []
  },
  {
   "cell_type": "markdown",
   "id": "0d33c987",
   "metadata": {},
   "source": [
    "# Define Function to Train Model"
   ]
  },
  {
   "cell_type": "code",
   "execution_count": 10,
   "id": "5ab19d63",
   "metadata": {},
   "outputs": [],
   "source": [
    "def train_model(model, criterion, optimizer, scheduler, num_epochs=3):\n",
    "    pass"
   ]
  },
  {
   "cell_type": "markdown",
   "id": "35264b0d",
   "metadata": {},
   "source": [
    "# Pass Hyper Parameters & Train Model"
   ]
  },
  {
   "cell_type": "code",
   "execution_count": null,
   "id": "1ec0c504",
   "metadata": {},
   "outputs": [],
   "source": [
    "model_ft, train_loss, val_loss = \"FILL_THIS_IN\""
   ]
  },
  {
   "cell_type": "markdown",
   "id": "06ceb779",
   "metadata": {},
   "source": [
    "# Plot Training and Validation Loss Curves"
   ]
  },
  {
   "cell_type": "code",
   "execution_count": null,
   "id": "e45c3057",
   "metadata": {},
   "outputs": [],
   "source": []
  }
 ],
 "metadata": {
  "kernelspec": {
   "display_name": "da_ai-fast-demos",
   "language": "python",
   "name": "da_ai-fast-demos"
  },
  "language_info": {
   "codemirror_mode": {
    "name": "ipython",
    "version": 3
   },
   "file_extension": ".py",
   "mimetype": "text/x-python",
   "name": "python",
   "nbconvert_exporter": "python",
   "pygments_lexer": "ipython3",
   "version": "3.11.10"
  }
 },
 "nbformat": 4,
 "nbformat_minor": 5
}
