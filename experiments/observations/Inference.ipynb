{
 "cells": [
  {
   "cell_type": "code",
   "execution_count": 1,
   "id": "50e46b31-bdfa-4a9f-b105-61b55af90f81",
   "metadata": {},
   "outputs": [
    {
     "name": "stdout",
     "output_type": "stream",
     "text": [
      "infer\n"
     ]
    }
   ],
   "source": [
    "print('infer')"
   ]
  },
  {
   "cell_type": "code",
   "execution_count": null,
   "id": "69140651-22ca-4cb0-97ab-2a6afb48e087",
   "metadata": {},
   "outputs": [],
   "source": []
  }
 ],
 "metadata": {
  "kernelspec": {
   "display_name": "da_ai-fast-demos",
   "language": "python",
   "name": "da_ai-fast-demos"
  },
  "language_info": {
   "codemirror_mode": {
    "name": "ipython",
    "version": 3
   },
   "file_extension": ".py",
   "mimetype": "text/x-python",
   "name": "python",
   "nbconvert_exporter": "python",
   "pygments_lexer": "ipython3",
   "version": "3.11.10"
  }
 },
 "nbformat": 4,
 "nbformat_minor": 5
}
