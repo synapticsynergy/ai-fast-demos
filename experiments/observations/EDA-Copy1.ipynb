{
 "cells": [
  {
   "cell_type": "markdown",
   "id": "907ed0bd-7842-41c8-a2ae-ccf092d2a930",
   "metadata": {},
   "source": [
    "# Flower Image Classification | EDA\n",
    "Exploratory Data Analysis"
   ]
  },
  {
   "cell_type": "markdown",
   "id": "dbb33f9a",
   "metadata": {},
   "source": [
    "## Steps\n",
    "\n",
    "1. [Imports](#imports)\n",
    "1. [Download Dataset](#download-dataset)\n",
    "1. [Preprocess Data](#preprocess-data)\n",
    "1. [Split Data Set](#split-data-set)\n",
    "1. [Inspect Images](#inspect-images)\n",
    "1. [Class Distribution](#class-distribution)\n",
    "1. [t-SNE](#t-sne)"
   ]
  },
  {
   "cell_type": "markdown",
   "id": "b81c378c-c4a6-48e3-ad82-30d3d437b389",
   "metadata": {},
   "source": [
    "### Dataset\n",
    "[Oxford 17 Category Flower Dataset](https://www.robots.ox.ac.uk/~vgg/data/flowers/17/index.html)"
   ]
  },
  {
   "cell_type": "markdown",
   "id": "b2843197",
   "metadata": {
    "vscode": {
     "languageId": "plaintext"
    }
   },
   "source": [
    "# Imports"
   ]
  },
  {
   "cell_type": "code",
   "execution_count": 29,
   "id": "8dcf0371",
   "metadata": {},
   "outputs": [],
   "source": []
  },
  {
   "cell_type": "markdown",
   "id": "34dcc874",
   "metadata": {},
   "source": [
    "# Download Dataset"
   ]
  },
  {
   "cell_type": "markdown",
   "id": "5b6cbb90",
   "metadata": {},
   "source": [
    "Make a data dir"
   ]
  },
  {
   "cell_type": "code",
   "execution_count": 11,
   "id": "94001217",
   "metadata": {},
   "outputs": [],
   "source": []
  },
  {
   "cell_type": "markdown",
   "id": "38ee6fe4",
   "metadata": {},
   "source": [
    "Download data into the data dir"
   ]
  },
  {
   "cell_type": "code",
   "execution_count": null,
   "id": "9f823ee2",
   "metadata": {},
   "outputs": [],
   "source": []
  },
  {
   "cell_type": "markdown",
   "id": "a7295779",
   "metadata": {},
   "source": [
    "unzip tgz file"
   ]
  },
  {
   "cell_type": "code",
   "execution_count": 16,
   "id": "d1d68aaf",
   "metadata": {},
   "outputs": [],
   "source": []
  },
  {
   "cell_type": "markdown",
   "id": "ade5218a",
   "metadata": {},
   "source": [
    "# Organize Dataset for Data Loaders"
   ]
  },
  {
   "cell_type": "code",
   "execution_count": 31,
   "id": "feaaf6f8",
   "metadata": {},
   "outputs": [],
   "source": [
    "def organize_by_class_labels():\n",
    "    # Define class names and create mapping\n",
    "    pass"
   ]
  },
  {
   "cell_type": "code",
   "execution_count": null,
   "id": "e86534ec",
   "metadata": {},
   "outputs": [],
   "source": [
    "organize_by_class_labels()"
   ]
  },
  {
   "cell_type": "markdown",
   "id": "c0f7670f",
   "metadata": {},
   "source": [
    "# Preprocess Data"
   ]
  },
  {
   "cell_type": "markdown",
   "id": "f48ccb61",
   "metadata": {},
   "source": [
    "Set device"
   ]
  },
  {
   "cell_type": "code",
   "execution_count": null,
   "id": "7a04f23d",
   "metadata": {},
   "outputs": [],
   "source": [
    "device = \"\""
   ]
  },
  {
   "cell_type": "markdown",
   "id": "537906e6",
   "metadata": {},
   "source": [
    "Define data transformations"
   ]
  },
  {
   "cell_type": "code",
   "execution_count": 34,
   "id": "ffa65ec9",
   "metadata": {},
   "outputs": [],
   "source": []
  },
  {
   "cell_type": "markdown",
   "id": "72d33134",
   "metadata": {},
   "source": [
    "# Load the dataset"
   ]
  },
  {
   "cell_type": "code",
   "execution_count": null,
   "id": "2e8fb365",
   "metadata": {},
   "outputs": [],
   "source": []
  },
  {
   "cell_type": "markdown",
   "id": "19497f37",
   "metadata": {},
   "source": [
    "# Split Data Set"
   ]
  },
  {
   "cell_type": "markdown",
   "id": "96128db7",
   "metadata": {},
   "source": [
    "Split the dataset into train, validation, and test sets"
   ]
  },
  {
   "cell_type": "markdown",
   "id": "aa34f300",
   "metadata": {},
   "source": []
  },
  {
   "cell_type": "markdown",
   "id": "265a8142",
   "metadata": {},
   "source": [
    "Apply respective transformations"
   ]
  },
  {
   "cell_type": "code",
   "execution_count": null,
   "id": "ec58feed",
   "metadata": {},
   "outputs": [],
   "source": []
  },
  {
   "cell_type": "markdown",
   "id": "9be0ac67",
   "metadata": {},
   "source": [
    "Create data loaders"
   ]
  },
  {
   "cell_type": "code",
   "execution_count": 35,
   "id": "6b455df9",
   "metadata": {},
   "outputs": [],
   "source": []
  },
  {
   "cell_type": "markdown",
   "id": "296e8fe8",
   "metadata": {},
   "source": [
    "# Inspect Images"
   ]
  },
  {
   "cell_type": "code",
   "execution_count": 39,
   "id": "a91873f4",
   "metadata": {},
   "outputs": [],
   "source": [
    "# Visualize a few images\n",
    "def imshow(inp, title=None):\n",
    "    pass"
   ]
  },
  {
   "cell_type": "markdown",
   "id": "a310b932",
   "metadata": {},
   "source": [
    "Make a grid and show images"
   ]
  },
  {
   "cell_type": "code",
   "execution_count": null,
   "id": "eb38bc23",
   "metadata": {},
   "outputs": [],
   "source": []
  },
  {
   "cell_type": "markdown",
   "id": "3105368c",
   "metadata": {},
   "source": [
    "# Class Distribution"
   ]
  },
  {
   "cell_type": "markdown",
   "id": "c1890556",
   "metadata": {},
   "source": [
    "Plot the distribution of the classes"
   ]
  },
  {
   "cell_type": "code",
   "execution_count": null,
   "id": "11b164fa",
   "metadata": {},
   "outputs": [],
   "source": []
  },
  {
   "cell_type": "markdown",
   "id": "be293b8e",
   "metadata": {},
   "source": [
    "# t-SNE"
   ]
  },
  {
   "cell_type": "code",
   "execution_count": 47,
   "id": "ced84889",
   "metadata": {},
   "outputs": [],
   "source": [
    "def plot_embedding(data, y, title):\n",
    "    # `data` is a 2D array of shape (n_samples, 2)\n",
    "    # `y` is a 1D array of shape (n_samples,), representing the labels\n",
    "    pass"
   ]
  },
  {
   "cell_type": "markdown",
   "id": "ee22e28c",
   "metadata": {},
   "source": [
    "Define pretrained model, and extract embeddings"
   ]
  },
  {
   "cell_type": "code",
   "execution_count": null,
   "id": "c3965569",
   "metadata": {},
   "outputs": [],
   "source": []
  },
  {
   "cell_type": "markdown",
   "id": "8567e4e9",
   "metadata": {},
   "source": [
    "Get Embeddings, use t-sne to reduce dimensions, and plot embeddings"
   ]
  },
  {
   "cell_type": "code",
   "execution_count": null,
   "id": "b617728c",
   "metadata": {},
   "outputs": [],
   "source": []
  }
 ],
 "metadata": {
  "kernelspec": {
   "display_name": "da_ai-fast-demos",
   "language": "python",
   "name": "da_ai-fast-demos"
  },
  "language_info": {
   "codemirror_mode": {
    "name": "ipython",
    "version": 3
   },
   "file_extension": ".py",
   "mimetype": "text/x-python",
   "name": "python",
   "nbconvert_exporter": "python",
   "pygments_lexer": "ipython3",
   "version": "3.11.10"
  }
 },
 "nbformat": 4,
 "nbformat_minor": 5
}
